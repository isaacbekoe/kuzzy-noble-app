{
  "nbformat": 4,
  "nbformat_minor": 0,
  "metadata": {
    "colab": {
      "provenance": [],
      "toc_visible": true,
      "authorship_tag": "ABX9TyOfMFISZ/cjLkLGTayQNX6r",
      "include_colab_link": true
    },
    "kernelspec": {
      "name": "python3",
      "display_name": "Python 3"
    },
    "language_info": {
      "name": "python"
    }
  },
  "cells": [
    {
      "cell_type": "markdown",
      "metadata": {
        "id": "view-in-github",
        "colab_type": "text"
      },
      "source": [
        "<a href=\"https://colab.research.google.com/github/isaacbekoe/kuzzy-noble-app/blob/main/IE_7280_Assignment_5_12_12.ipynb\" target=\"_parent\"><img src=\"https://colab.research.google.com/assets/colab-badge.svg\" alt=\"Open In Colab\"/></a>"
      ]
    },
    {
      "cell_type": "code",
      "source": [
        "import pandas as pd\n",
        "import statsmodels.api as sm"
      ],
      "metadata": {
        "id": "vTgsVPuT-Bx7"
      },
      "execution_count": 2,
      "outputs": []
    },
    {
      "cell_type": "code",
      "source": [
        "data = {\n",
        "    'x1': [15.57, 44.02, 20.42, 18.74, 49.20, 44.92, 55.48, 59.28, 94.39, 128.02, 96.00, 131.42, 127.21, 252.90, 409.20, 463.70, 510.22],\n",
        "    'x2': [2463, 2048, 3940, 6505, 5723, 11520, 5779, 5969, 8461, 20106, 13313, 10771, 15543, 36194, 34703, 39204, 86533],\n",
        "    'x3': [472.92, 1339.75, 620.25, 568.33, 1497.60, 1365.83, 1687.00, 1639.92, 2872.33, 3655.08, 2912.00, 3921.00, 3865.67, 7684.10, 12446.33, 14098.40, 15524.00],\n",
        "    'x4': [18.0, 9.5, 12.8, 36.7, 35.7, 24.0, 43.3, 46.7, 78.7, 180.5, 60.9, 103.7, 126.8, 157.7, 169.4, 331.4, 371.6],\n",
        "    'x5': [4.45, 6.92, 4.28, 3.90, 5.50, 4.60, 5.62, 5.15, 6.18, 6.15, 5.88, 4.88, 5.50, 7.00, 10.75, 7.05, 6.35],\n",
        "    'y': [566.52, 696.82, 1033.15, 1003.62, 1611.37, 1613.27, 1854.17, 2160.55, 2305.58, 3503.93, 3571.59, 3741.40, 4026.52, 10343.81, 11732.17, 15414.94, 18854.45]\n",
        "}"
      ],
      "metadata": {
        "id": "xRFMMn49-Wfw"
      },
      "execution_count": 3,
      "outputs": []
    },
    {
      "cell_type": "code",
      "source": [
        "df = pd.DataFrame(data)\n",
        "\n",
        "X = df[['x1', 'x2', 'x3', 'x4', 'x5']]\n",
        "y = df['y']"
      ],
      "metadata": {
        "id": "pmm_wnDb-de6"
      },
      "execution_count": 4,
      "outputs": []
    },
    {
      "cell_type": "code",
      "source": [
        "X = sm.add_constant(X)\n",
        "model = sm.OLS(y, X).fit()"
      ],
      "metadata": {
        "id": "jyFMA_gI-kBp"
      },
      "execution_count": 6,
      "outputs": []
    },
    {
      "cell_type": "code",
      "execution_count": 7,
      "metadata": {
        "id": "NxYjZCjTp3SP",
        "outputId": "076e9aa2-3252-45d5-d922-6e631fa48cec",
        "colab": {
          "base_uri": "https://localhost:8080/"
        }
      },
      "outputs": [
        {
          "output_type": "stream",
          "name": "stdout",
          "text": [
            "                            OLS Regression Results                            \n",
            "==============================================================================\n",
            "Dep. Variable:                      y   R-squared:                       0.991\n",
            "Model:                            OLS   Adj. R-squared:                  0.987\n",
            "Method:                 Least Squares   F-statistic:                     246.8\n",
            "Date:                Fri, 31 May 2024   Prob (F-statistic):           6.59e-11\n",
            "Time:                        04:48:56   Log-Likelihood:                -130.08\n",
            "No. Observations:                  17   AIC:                             272.2\n",
            "Df Residuals:                      11   BIC:                             277.2\n",
            "Df Model:                           5                                         \n",
            "Covariance Type:            nonrobust                                         \n",
            "==============================================================================\n",
            "                 coef    std err          t      P>|t|      [0.025      0.975]\n",
            "------------------------------------------------------------------------------\n",
            "const       1710.7679   1058.381      1.616      0.134    -618.714    4040.249\n",
            "x1            -9.6249     96.210     -0.100      0.922    -221.382     202.132\n",
            "x2             0.0563      0.021      2.685      0.021       0.010       0.102\n",
            "x3             1.3772      3.047      0.452      0.660      -5.329       8.083\n",
            "x4            -3.9881      7.061     -0.565      0.584     -19.530      11.554\n",
            "x5          -358.0028    207.106     -1.729      0.112    -813.841      97.836\n",
            "==============================================================================\n",
            "Omnibus:                       14.794   Durbin-Watson:                   2.863\n",
            "Prob(Omnibus):                  0.001   Jarque-Bera (JB):               12.785\n",
            "Skew:                           1.570   Prob(JB):                      0.00167\n",
            "Kurtosis:                       5.861   Cond. No.                     1.98e+05\n",
            "==============================================================================\n",
            "\n",
            "Notes:\n",
            "[1] Standard Errors assume that the covariance matrix of the errors is correctly specified.\n",
            "[2] The condition number is large, 1.98e+05. This might indicate that there are\n",
            "strong multicollinearity or other numerical problems.\n"
          ]
        },
        {
          "output_type": "stream",
          "name": "stderr",
          "text": [
            "/usr/local/lib/python3.10/dist-packages/scipy/stats/_stats_py.py:1806: UserWarning: kurtosistest only valid for n>=20 ... continuing anyway, n=17\n",
            "  warnings.warn(\"kurtosistest only valid for n>=20 ... continuing \"\n"
          ]
        },
        {
          "output_type": "execute_result",
          "data": {
            "text/plain": [
              "const    1710.767946\n",
              "x1         -9.624868\n",
              "x2          0.056277\n",
              "x3          1.377187\n",
              "x4         -3.988144\n",
              "x5       -358.002771\n",
              "dtype: float64"
            ]
          },
          "metadata": {},
          "execution_count": 7
        }
      ],
      "source": [
        "print(model.summary())\n",
        "coefficients = model.params\n",
        "coefficients\n"
      ]
    },
    {
      "cell_type": "code",
      "source": [],
      "metadata": {
        "id": "SjMiAm3c-VDW"
      },
      "execution_count": null,
      "outputs": []
    }
  ]
}